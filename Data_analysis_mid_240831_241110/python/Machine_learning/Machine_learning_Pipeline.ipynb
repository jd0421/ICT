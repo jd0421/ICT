{
 "cells": [
  {
   "cell_type": "code",
   "execution_count": 4,
   "metadata": {},
   "outputs": [],
   "source": [
    "from sklearn.model_selection import GridSearchCV\n",
    "from sklearn.pipeline import Pipeline\n",
    "from sklearn.ensemble import RandomForestClassifier, GradientBoostingClassifier, AdaBoostClassifier, ExtraTreesClassifier\n",
    "from sklearn.svm import SVC\n",
    "from sklearn.linear_model import LogisticRegression\n",
    "from sklearn.neighbors import KNeighborsClassifier\n",
    "from sklearn.tree import DecisionTreeClassifier\n",
    "from catboost import CatBoostClassifier\n",
    "from lightgbm import LGBMClassifier\n",
    "from xgboost import XGBClassifier\n",
    "from sklearn.datasets import load_breast_cancer\n",
    "from sklearn.model_selection import train_test_split\n",
    "from sklearn.preprocessing import StandardScaler\n",
    "from sklearn.metrics import accuracy_score"
   ]
  },
  {
   "cell_type": "code",
   "execution_count": 5,
   "metadata": {},
   "outputs": [],
   "source": [
    "# 데이터 로드 및 분할\n",
    "data = load_breast_cancer()\n",
    "X_train, X_test, y_train, y_test = train_test_split(data.data, data.target, test_size=0.2, random_state=42)\n"
   ]
  },
  {
   "cell_type": "code",
   "execution_count": 6,
   "metadata": {},
   "outputs": [],
   "source": [
    "# 파이프라인 구성: 스케일링 + 분류기\n",
    "pipeline = Pipeline([\n",
    "    ('scaler', StandardScaler()),  # 데이터 표준화 (모든 모델에 적용)\n",
    "    ('classifier', RandomForestClassifier())  # 기본 분류기 (랜덤 포레스트)\n",
    "])\n",
    "\n",
    "# 하이퍼파라미터 그리드 설정 (10개 모델)\n",
    "param_grid = [\n",
    "    # RandomForestClassifier에 대한 하이퍼파라미터 그리드\n",
    "    {\n",
    "        'classifier': [RandomForestClassifier()],\n",
    "        'classifier__n_estimators': [50, 100, 200],\n",
    "        'classifier__max_depth': [10, 20, None],\n",
    "        'classifier__min_samples_split': [2, 5]\n",
    "    },\n",
    "    # CatBoostClassifier에 대한 하이퍼파라미터 그리드\n",
    "    {\n",
    "        'classifier': [CatBoostClassifier(verbose=0)],\n",
    "        'classifier__iterations': [100, 200],\n",
    "        'classifier__depth': [6, 8, 10],\n",
    "        'classifier__learning_rate': [0.01, 0.1]\n",
    "    },\n",
    "    # LightGBMClassifier에 대한 하이퍼파라미터 그리드\n",
    "    {\n",
    "        'classifier': [LGBMClassifier()],\n",
    "        'classifier__n_estimators': [100, 200],\n",
    "        'classifier__num_leaves': [31, 50],\n",
    "        'classifier__learning_rate': [0.01, 0.1]\n",
    "    },\n",
    "    # XGBoostClassifier에 대한 하이퍼파라미터 그리드\n",
    "    {\n",
    "        'classifier': [XGBClassifier(use_label_encoder=False, eval_metric='logloss')],\n",
    "        'classifier__n_estimators': [100, 200],\n",
    "        'classifier__max_depth': [3, 5, 7],\n",
    "        'classifier__learning_rate': [0.01, 0.1]\n",
    "    },\n",
    "    # LogisticRegression에 대한 하이퍼파라미터 그리드\n",
    "    {\n",
    "        'classifier': [LogisticRegression()],\n",
    "        'classifier__penalty': ['l2'],\n",
    "        'classifier__C': [0.1, 1, 10]\n",
    "    },\n",
    "    # KNeighborsClassifier에 대한 하이퍼파라미터 그리드\n",
    "    {\n",
    "        'classifier': [KNeighborsClassifier()],\n",
    "        'classifier__n_neighbors': [3, 5, 7],\n",
    "        'classifier__weights': ['uniform', 'distance']\n",
    "    },\n",
    "    # GradientBoostingClassifier에 대한 하이퍼파라미터 그리드\n",
    "    {\n",
    "        'classifier': [GradientBoostingClassifier()],\n",
    "        'classifier__n_estimators': [100, 200],\n",
    "        'classifier__max_depth': [3, 5],\n",
    "        'classifier__learning_rate': [0.01, 0.1]\n",
    "    },\n",
    "    # AdaBoostClassifier에 대한 하이퍼파라미터 그리드\n",
    "    {\n",
    "        'classifier': [AdaBoostClassifier()],\n",
    "        'classifier__n_estimators': [50, 100],\n",
    "        'classifier__learning_rate': [0.01, 0.1]\n",
    "    },\n",
    "    # ExtraTreesClassifier에 대한 하이퍼파라미터 그리드\n",
    "    {\n",
    "        'classifier': [ExtraTreesClassifier()],\n",
    "        'classifier__n_estimators': [100, 200],\n",
    "        'classifier__max_depth': [10, 20, None]\n",
    "    },\n",
    "    # DecisionTreeClassifier에 대한 하이퍼파라미터 그리드\n",
    "    {\n",
    "        'classifier': [DecisionTreeClassifier()],\n",
    "        'classifier__max_depth': [10, 20, None],\n",
    "        'classifier__min_samples_split': [2, 5, 10]\n",
    "    }\n",
    "]\n"
   ]
  },
  {
   "cell_type": "code",
   "execution_count": 7,
   "metadata": {},
   "outputs": [
    {
     "name": "stdout",
     "output_type": "stream",
     "text": [
      "Fitting 5 folds for each of 86 candidates, totalling 430 fits\n",
      "Best parameters found:  {'classifier': LogisticRegression(), 'classifier__C': 1, 'classifier__penalty': 'l2'}\n",
      "Best cross-validation score: 0.98\n",
      "Test set accuracy: 0.97\n"
     ]
    },
    {
     "name": "stderr",
     "output_type": "stream",
     "text": [
      "c:\\Users\\jd421\\anaconda3\\Lib\\site-packages\\numpy\\ma\\core.py:2820: RuntimeWarning: invalid value encountered in cast\n",
      "  _data = np.array(data, dtype=dtype, copy=copy,\n"
     ]
    }
   ],
   "source": [
    "\n",
    "# 그리드 서치 실행 (교차 검증 포함)\n",
    "grid_search = GridSearchCV(pipeline, param_grid, cv=5, n_jobs=-1, verbose=2)\n",
    "grid_search.fit(X_train, y_train)\n",
    "\n",
    "# 최적의 하이퍼파라미터 출력\n",
    "print(\"Best parameters found: \", grid_search.best_params_)\n",
    "print(\"Best cross-validation score: {:.2f}\".format(grid_search.best_score_))\n",
    "\n",
    "# 최적 모델로 테스트 세트에 대한 성능 평가\n",
    "best_model = grid_search.best_estimator_\n",
    "accuracy = best_model.score(X_test, y_test)\n",
    "print(f\"Test set accuracy: {accuracy:.2f}\")"
   ]
  },
  {
   "cell_type": "code",
   "execution_count": null,
   "metadata": {},
   "outputs": [],
   "source": []
  },
  {
   "cell_type": "code",
   "execution_count": null,
   "metadata": {},
   "outputs": [],
   "source": []
  },
  {
   "cell_type": "code",
   "execution_count": null,
   "metadata": {},
   "outputs": [],
   "source": []
  },
  {
   "cell_type": "code",
   "execution_count": null,
   "metadata": {},
   "outputs": [],
   "source": []
  },
  {
   "cell_type": "code",
   "execution_count": null,
   "metadata": {},
   "outputs": [],
   "source": []
  },
  {
   "cell_type": "code",
   "execution_count": null,
   "metadata": {},
   "outputs": [],
   "source": []
  },
  {
   "cell_type": "code",
   "execution_count": null,
   "metadata": {},
   "outputs": [],
   "source": []
  },
  {
   "cell_type": "code",
   "execution_count": null,
   "metadata": {},
   "outputs": [],
   "source": []
  },
  {
   "cell_type": "code",
   "execution_count": null,
   "metadata": {},
   "outputs": [],
   "source": []
  },
  {
   "cell_type": "code",
   "execution_count": null,
   "metadata": {},
   "outputs": [],
   "source": []
  },
  {
   "cell_type": "code",
   "execution_count": null,
   "metadata": {},
   "outputs": [],
   "source": []
  },
  {
   "cell_type": "code",
   "execution_count": null,
   "metadata": {},
   "outputs": [],
   "source": []
  },
  {
   "cell_type": "code",
   "execution_count": null,
   "metadata": {},
   "outputs": [],
   "source": []
  },
  {
   "cell_type": "code",
   "execution_count": null,
   "metadata": {},
   "outputs": [],
   "source": []
  },
  {
   "cell_type": "code",
   "execution_count": null,
   "metadata": {},
   "outputs": [],
   "source": []
  }
 ],
 "metadata": {
  "kernelspec": {
   "display_name": "base",
   "language": "python",
   "name": "python3"
  },
  "language_info": {
   "codemirror_mode": {
    "name": "ipython",
    "version": 3
   },
   "file_extension": ".py",
   "mimetype": "text/x-python",
   "name": "python",
   "nbconvert_exporter": "python",
   "pygments_lexer": "ipython3",
   "version": "3.12.7"
  }
 },
 "nbformat": 4,
 "nbformat_minor": 2
}
