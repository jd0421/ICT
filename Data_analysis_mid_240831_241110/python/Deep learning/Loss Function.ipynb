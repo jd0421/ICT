{
 "cells": [
  {
   "cell_type": "markdown",
   "metadata": {},
   "source": [
    "# 회귀 문제\n",
    "\n",
    "- 예시) 집값예측\n",
    "- 회귀 문제에서는 평균 제곱 오차(MSE, Mean Squared Error)를 손실 함수로 자주 사용"
   ]
  },
  {
   "cell_type": "markdown",
   "metadata": {},
   "source": [
    "\n",
    "\n",
    "```python\n",
    "import tensorflow as tf\n",
    "from tensorflow.keras import layers, models\n",
    "\n",
    "# 예시 데이터 (회귀)\n",
    "X_train, y_train = ...  # 적절한 회귀 데이터로 대체하세요\n",
    "X_valid, y_valid = ...  # 검증 데이터\n",
    "\n",
    "# 모델 정의\n",
    "model = models.Sequential([\n",
    "    layers.Dense(64, activation='relu', input_shape=(X_train.shape[1],)),\n",
    "    layers.Dense(64, activation='relu'),\n",
    "    layers.Dense(1)  # <-----☆☆ 출력 뉴런 수는 회귀 문제에 따라 다름☆☆\n",
    "])\n",
    "\n",
    "# 옵티마이저 정의\n",
    "optimizer = tf.keras.optimizers.Nadam(learning_rate=0.01)\n",
    "\n",
    "# 모델 컴파일\n",
    "model.compile(loss='mse', optimizer=optimizer, metrics=['mse']) #<-----☆☆ 이부분에 어떤 것들이 들어올 수 있을까??☆☆\n",
    "\n",
    "# 정규화 레이어 적용\n",
    "norm_layer = tf.keras.layers.Normalization()\n",
    "norm_layer.adapt(X_train)\n",
    "\n",
    "# 모델 학습\n",
    "history = model.fit(\n",
    "    norm_layer(X_train), y_train,\n",
    "    epochs=30,\n",
    "    validation_data=(norm_layer(X_valid), y_valid)\n",
    ")\n",
    "\n",
    "```\n",
    "\n"
   ]
  },
  {
   "cell_type": "markdown",
   "metadata": {},
   "source": [
    "Q. `model.compile(loss='mse' ~ ` 에서 위쪽 어떤 코드  혹은 어떤 단서로  mse가 들어갔을까요?\n",
    "- 마지막 출력 코드가 한개!! - 숫자 측 회귀문제"
   ]
  },
  {
   "cell_type": "markdown",
   "metadata": {},
   "source": [
    "#  이진 분류 (binary_crossentropy 손실 함수)\n",
    "- 이진 분류 문제에서는 이진 교차 엔트로피 손실 함수를 사용"
   ]
  },
  {
   "cell_type": "markdown",
   "metadata": {},
   "source": [
    "\n",
    "\n",
    "```python\n",
    "import tensorflow as tf\n",
    "from tensorflow.keras import layers, models\n",
    "\n",
    "# 예시 데이터 (이진 분류)\n",
    "X_train, y_train = ...  # 적절한 이진 분류 데이터로 대체하세요\n",
    "X_valid, y_valid = ...  # 검증 데이터\n",
    "\n",
    "# 모델 정의\n",
    "model = models.Sequential([\n",
    "    layers.Dense(64, activation='relu', input_shape=(X_train.shape[1],)),\n",
    "    layers.Dense(64, activation='relu'),\n",
    "    layers.Dense(1, activation='sigmoid')  # <------ ☆☆시그모이드 활성화 함수 사용☆☆\n",
    "])\n",
    "\n",
    "# 옵티마이저 정의\n",
    "optimizer = tf.keras.optimizers.Nadam(learning_rate=0.01)\n",
    "\n",
    "# 모델 컴파일\n",
    "model.compile(loss='binary_crossentropy', optimizer=optimizer, metrics=['accuracy']) #<------ ☆☆binary_crossentropy☆☆\n",
    "\n",
    "# 정규화 레이어 적용\n",
    "norm_layer = tf.keras.layers.Normalization()\n",
    "norm_layer.adapt(X_train)\n",
    "\n",
    "# 모델 학습\n",
    "history = model.fit(\n",
    "    norm_layer(X_train), y_train,\n",
    "    epochs=30,\n",
    "    validation_data=(norm_layer(X_valid), y_valid)\n",
    ")\n",
    "\n",
    "```\n",
    "\n"
   ]
  },
  {
   "cell_type": "markdown",
   "metadata": {},
   "source": [
    "#  다중 클래스 분류 (categorical_crossentropy 손실 함수)\n",
    "`원-핫 인코딩된 라벨을 사용할 때`는 범주형 교차 엔트로피 손실 함수를 사용"
   ]
  },
  {
   "cell_type": "markdown",
   "metadata": {},
   "source": [
    "\n",
    "\n",
    "```python\n",
    "import tensorflow as tf\n",
    "from tensorflow.keras import layers, models\n",
    "from tensorflow.keras.utils import to_categorical\n",
    "\n",
    "# 예시 데이터 (다중 클래스 분류)\n",
    "X_train, y_train = ...  # 적절한 다중 클래스 분류 데이터로 대체하세요\n",
    "X_valid, y_valid = ...  # 검증 데이터\n",
    "\n",
    "# 라벨을 원-핫 인코딩\n",
    "num_classes = 10  # 클래스 수에 맞게 설정\n",
    "y_train_categorical = to_categorical(y_train, num_classes)\n",
    "y_valid_categorical = to_categorical(y_valid, num_classes)\n",
    "\n",
    "# 모델 정의\n",
    "model = models.Sequential([\n",
    "    layers.Dense(128, activation='relu', input_shape=(X_train.shape[1],)),\n",
    "    layers.Dense(128, activation='relu'),\n",
    "    layers.Dense(num_classes, activation='softmax')  # <------ ☆☆소프트맥스 활성화 함수 사용\n",
    "])\n",
    "\n",
    "# 옵티마이저 정의\n",
    "optimizer = tf.keras.optimizers.Nadam(learning_rate=0.01)\n",
    "\n",
    "# 모델 컴파일\n",
    "model.compile(loss='categorical_crossentropy', optimizer=optimizer, metrics=['accuracy'])#<------ ☆☆categorical_crossentropy\n",
    "\n",
    "# 정규화 레이어 적용\n",
    "norm_layer = tf.keras.layers.Normalization()\n",
    "norm_layer.adapt(X_train)\n",
    "\n",
    "# 모델 학습\n",
    "history = model.fit(\n",
    "    norm_layer(X_train), y_train_categorical,\n",
    "    epochs=30,\n",
    "    validation_data=(norm_layer(X_valid), y_valid_categorical)\n",
    ")\n",
    "\n",
    "```\n",
    "\n"
   ]
  },
  {
   "cell_type": "markdown",
   "metadata": {},
   "source": [
    "# 다중 클래스 분류 (sparse_categorical_crossentropy 손실 함수)\n",
    "- 정수 인코딩된 라벨을 사용할 때는 희소 범주형 교차 엔트로피 손실 함수를 사용"
   ]
  },
  {
   "cell_type": "markdown",
   "metadata": {},
   "source": [
    "\n",
    "\n",
    "```python\n",
    "import tensorflow as tf\n",
    "from tensorflow.keras import layers, models\n",
    "\n",
    "# 예시 데이터 (다중 클래스 분류)\n",
    "X_train, y_train = ...  # 적절한 다중 클래스 분류 데이터로 대체하세요\n",
    "X_valid, y_valid = ...  # 검증 데이터\n",
    "\n",
    "# 모델 정의\n",
    "model = models.Sequential([\n",
    "    layers.Dense(128, activation='relu', input_shape=(X_train.shape[1],)),\n",
    "    layers.Dense(128, activation='relu'),\n",
    "    layers.Dense(num_classes, activation='softmax')  # #<------ ☆☆소프트맥스 활성화 함수 사용\n",
    "])\n",
    "\n",
    "# 옵티마이저 정의\n",
    "optimizer = tf.keras.optimizers.Nadam(learning_rate=0.01)\n",
    "\n",
    "# 모델 컴파일\n",
    "model.compile(loss='sparse_categorical_crossentropy', optimizer=optimizer, metrics=['accuracy'])#<------ ☆☆sparse_categorical_crossentropy\n",
    "\n",
    "# 정규화 레이어 적용\n",
    "norm_layer = tf.keras.layers.Normalization()\n",
    "norm_layer.adapt(X_train)\n",
    "\n",
    "# 모델 학습\n",
    "history = model.fit(\n",
    "    norm_layer(X_train), y_train,\n",
    "    epochs=30,\n",
    "    validation_data=(norm_layer(X_valid), y_valid)\n",
    ")\n",
    "\n",
    "```\n",
    "\n"
   ]
  },
  {
   "cell_type": "code",
   "execution_count": null,
   "metadata": {},
   "outputs": [],
   "source": []
  },
  {
   "cell_type": "code",
   "execution_count": null,
   "metadata": {},
   "outputs": [],
   "source": []
  },
  {
   "cell_type": "code",
   "execution_count": null,
   "metadata": {},
   "outputs": [],
   "source": []
  },
  {
   "cell_type": "code",
   "execution_count": null,
   "metadata": {},
   "outputs": [],
   "source": []
  },
  {
   "cell_type": "code",
   "execution_count": null,
   "metadata": {},
   "outputs": [],
   "source": []
  }
 ],
 "metadata": {
  "language_info": {
   "name": "python"
  }
 },
 "nbformat": 4,
 "nbformat_minor": 2
}
