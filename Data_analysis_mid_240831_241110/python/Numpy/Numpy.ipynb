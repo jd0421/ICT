{
 "cells": [
  {
   "cell_type": "code",
   "execution_count": 4,
   "metadata": {},
   "outputs": [
    {
     "name": "stdout",
     "output_type": "stream",
     "text": [
      "차원: 3\n",
      "모양: (2, 3, 4)\n",
      "크기: 24\n",
      "데이터 타입: int32\n",
      "각 원소 크기: 4\n"
     ]
    }
   ],
   "source": [
    "import numpy as np\n",
    "\n",
    "my_list = [[[1, 2, 3, 4], [5, 6, 7, 8], [9, 10, 11, 12]],\n",
    "           [[1, 2, 3, 4], [5, 6, 7, 8], [9, 10, 11, 12]]]\n",
    "\n",
    "my_array = np.array(my_list)\n",
    "print(\"차원:\", my_array.ndim)\n",
    "print(\"모양:\", my_array.shape)\n",
    "print(\"크기:\", my_array.size)\n",
    "print(\"데이터 타입:\", my_array.dtype)\n",
    "print(\"각 원소 크기:\", my_array.itemsize)"
   ]
  },
  {
   "cell_type": "code",
   "execution_count": 5,
   "metadata": {},
   "outputs": [
    {
     "name": "stdout",
     "output_type": "stream",
     "text": [
      "[[[ 1  2  3  4]\n",
      "  [ 5  6  7  8]\n",
      "  [ 9 10 11 12]]\n",
      "\n",
      " [[ 1  2  3  4]\n",
      "  [ 5  6  7  8]\n",
      "  [ 9 10 11 12]]]\n"
     ]
    }
   ],
   "source": [
    "print(my_array)"
   ]
  },
  {
   "cell_type": "markdown",
   "metadata": {},
   "source": [
    "## Numpy 배열 생성\n"
   ]
  },
  {
   "cell_type": "markdown",
   "metadata": {},
   "source": [
    "#### (1) numpy.array()\n",
    "numpy.array는 입력 데이터(리스트, 리스트의 튜플, 다른 배열 등)를 ndarray로 변환합니다."
   ]
  },
  {
   "cell_type": "code",
   "execution_count": 2,
   "metadata": {},
   "outputs": [
    {
     "data": {
      "text/plain": [
       "array([1, 2, 3, 4, 5])"
      ]
     },
     "execution_count": 2,
     "metadata": {},
     "output_type": "execute_result"
    }
   ],
   "source": [
    "my_list = [1, 2, 3, 4, 5]\n",
    "my_array = np.array(my_list)\n",
    "my_array"
   ]
  },
  {
   "cell_type": "code",
   "execution_count": 3,
   "metadata": {},
   "outputs": [
    {
     "name": "stdout",
     "output_type": "stream",
     "text": [
      "[1 2 3 4 5]\n"
     ]
    }
   ],
   "source": [
    "print(my_array)"
   ]
  },
  {
   "cell_type": "markdown",
   "metadata": {},
   "source": [
    "### (2) numpy.arange()\n",
    "<br />\n",
    "numpy.arange는 특정 구간 안에서 일정 간격의 값으로 구성된 배열을 생성합니다.\n",
    "   start 값에서 시작하여 stop 값까지 step 간격으로 숫자를 생성합니다.  \n",
    "   여기서 stop값은 범위에 포함되지 않습니다.\n",
    "<br />\n"
   ]
  },
  {
   "cell_type": "code",
   "execution_count": 6,
   "metadata": {},
   "outputs": [
    {
     "data": {
      "text/plain": [
       "array([0, 2, 4, 6, 8])"
      ]
     },
     "execution_count": 6,
     "metadata": {},
     "output_type": "execute_result"
    }
   ],
   "source": [
    "my_array = np.arange(0, 10, 2)\n",
    "my_array"
   ]
  },
  {
   "cell_type": "markdown",
   "metadata": {},
   "source": [
    "### (3) numpy.zeros()\n",
    "\n",
    "numpy.zeros는 모든 원소가 0인 배열을 생성합니다. 괄호 안의 숫자는 배열의 형태를 나타냅니다."
   ]
  },
  {
   "cell_type": "code",
   "execution_count": 7,
   "metadata": {},
   "outputs": [
    {
     "data": {
      "text/plain": [
       "array([[0., 0., 0.],\n",
       "       [0., 0., 0.],\n",
       "       [0., 0., 0.]])"
      ]
     },
     "execution_count": 7,
     "metadata": {},
     "output_type": "execute_result"
    }
   ],
   "source": [
    "zeros_array = np.zeros((3, 3))\n",
    "zeros_array"
   ]
  },
  {
   "cell_type": "markdown",
   "metadata": {},
   "source": [
    "### (4) numpy.ones()\n",
    "\n",
    "numpy.ones는 모든 원소가 1인 배열을 생성합니다. (2, 4)은 이 배열이 2행 4열의 2차원 배열임을 의미합니다. \n",
    "이 함수는 가중치를 초기화 할 때, 연산에서 모든 원소가 1인 배열이 필요할 때 주로 사용됩니다."
   ]
  },
  {
   "cell_type": "code",
   "execution_count": 8,
   "metadata": {},
   "outputs": [
    {
     "data": {
      "text/plain": [
       "array([[1., 1., 1., 1.],\n",
       "       [1., 1., 1., 1.]])"
      ]
     },
     "execution_count": 8,
     "metadata": {},
     "output_type": "execute_result"
    }
   ],
   "source": [
    "ones_array = np.ones((2, 4))\n",
    "ones_array"
   ]
  },
  {
   "cell_type": "markdown",
   "metadata": {},
   "source": [
    "### (5) numpy.empty()\n",
    "numpy.empty는 초기화되지 않은 원소로 구성된 배열을 생성합니다. 이 함수를 이용해서 만들어지는 배열의 초기값은 메모리 상태에 따라 결정되므로 어떤 값이 들어있는지 알 수 없습니다."
   ]
  },
  {
   "cell_type": "code",
   "execution_count": 11,
   "metadata": {},
   "outputs": [
    {
     "data": {
      "text/plain": [
       "array([[6.23042070e-307, 4.67296746e-307, 1.69121096e-306],\n",
       "       [1.11262181e-307, 1.89146896e-307, 7.56571288e-307]])"
      ]
     },
     "execution_count": 11,
     "metadata": {},
     "output_type": "execute_result"
    }
   ],
   "source": [
    "empty_array = np.empty((2, 3))\n",
    "empty_array"
   ]
  },
  {
   "cell_type": "markdown",
   "metadata": {},
   "source": [
    "### (6) numpy.full()\n",
    "numpy.full는 모든 원소가 지정한 특정 값으로 채워진 배열을 생성합니다."
   ]
  },
  {
   "cell_type": "code",
   "execution_count": 12,
   "metadata": {},
   "outputs": [
    {
     "data": {
      "text/plain": [
       "array([[7, 7],\n",
       "       [7, 7]])"
      ]
     },
     "execution_count": 12,
     "metadata": {},
     "output_type": "execute_result"
    }
   ],
   "source": [
    "full_array = np.full((2, 2), 7)\n",
    "full_array"
   ]
  },
  {
   "cell_type": "markdown",
   "metadata": {},
   "source": [
    "### (7) numpy.eye()\n",
    "numpy.eye는 주어진 크기의 단위 행렬(Identity matrix)을 생성합니다. 단위 행렬은 대각선 원소들이 모두 1이고, 나머지 원소들이 모두0인 정방 행렬입니다."
   ]
  },
  {
   "cell_type": "code",
   "execution_count": 14,
   "metadata": {},
   "outputs": [
    {
     "data": {
      "text/plain": [
       "array([[1., 0., 0., 0., 0., 0., 0., 0., 0., 0.],\n",
       "       [0., 1., 0., 0., 0., 0., 0., 0., 0., 0.],\n",
       "       [0., 0., 1., 0., 0., 0., 0., 0., 0., 0.],\n",
       "       [0., 0., 0., 1., 0., 0., 0., 0., 0., 0.],\n",
       "       [0., 0., 0., 0., 1., 0., 0., 0., 0., 0.],\n",
       "       [0., 0., 0., 0., 0., 1., 0., 0., 0., 0.],\n",
       "       [0., 0., 0., 0., 0., 0., 1., 0., 0., 0.],\n",
       "       [0., 0., 0., 0., 0., 0., 0., 1., 0., 0.],\n",
       "       [0., 0., 0., 0., 0., 0., 0., 0., 1., 0.],\n",
       "       [0., 0., 0., 0., 0., 0., 0., 0., 0., 1.]])"
      ]
     },
     "execution_count": 14,
     "metadata": {},
     "output_type": "execute_result"
    }
   ],
   "source": [
    "eye_array = np.eye(10)\n",
    "eye_array"
   ]
  },
  {
   "cell_type": "markdown",
   "metadata": {},
   "source": [
    "## 데이터 타입\n",
    "\n",
    "Numpy 배열은 다양한 종류의 데이터 타입을 지원합니다. \n",
    "배열 생성 시 데이터 타입을 명시적으로 지정할 수도 있고, Numpy가 자동으로 데이터 타입을 추론할 수도 있습니다. 일반적으로 사용되는 데이터 타입에는 다음과 같은 것들이 있습니다.\n",
    "\n",
    "- int : 정수 타입\n",
    "- float : 부동소수점 타입\n",
    "- bool : 불리언 타입\n",
    "- str : 문자열 타입\n"
   ]
  },
  {
   "cell_type": "code",
   "execution_count": 15,
   "metadata": {},
   "outputs": [
    {
     "data": {
      "text/plain": [
       "array([1., 2., 3., 4., 5.])"
      ]
     },
     "execution_count": 15,
     "metadata": {},
     "output_type": "execute_result"
    }
   ],
   "source": [
    "my_array = np.array([1, 2, 3, 4, 5], dtype=np.float64)\n",
    "my_array"
   ]
  },
  {
   "cell_type": "markdown",
   "metadata": {},
   "source": [
    "## Numpy 인덱싱\n",
    "\n",
    "Numpy 배열 인덱싱(indexing)은 리스트 인덱싱과 매우 유사하게 작동합니다. \n",
    "인덱싱(Indexing)은 특정 위치의 데이터에 접근하는 것을 의미합니다. 인덱싱을 이용해 특정 위치에 있는 값을 가져오거나 설정할 수 있습니다."
   ]
  },
  {
   "cell_type": "code",
   "execution_count": 16,
   "metadata": {},
   "outputs": [
    {
     "name": "stdout",
     "output_type": "stream",
     "text": [
      "Original array:  [1 2 3 4 5]\n",
      "First element:  1\n",
      "Last element:  5\n",
      "Array after modification:  [10  2  3  4  5]\n",
      "First element:  10\n",
      "Last element:  5\n"
     ]
    }
   ],
   "source": [
    "arr = np.array([1, 2, 3, 4, 5])\n",
    "print(\"Original array: \", arr)\n",
    "print(\"First element: \", arr[0])  # 첫 번째 원소\n",
    "print(\"Last element: \", arr[-1])  # 마지막 원소\n",
    "\n",
    "arr[0] = 10  # 첫 번째 원소 값을 변경\n",
    "print(\"Array after modification: \", arr)\n",
    "print(\"First element: \", arr[0])  # 첫 번째 원소\n",
    "print(\"Last element: \", arr[-1])  # 마지막 원소\n"
   ]
  },
  {
   "cell_type": "markdown",
   "metadata": {},
   "source": [
    "### 다차원 배열의 인덱싱\n",
    "\n",
    "\n",
    "Numpy에서는 다차원 배열을 생성하고 사용할 수 있습니다. 이러한 다차원 배열에서 인덱싱은 각 차원에 대해 독립적으로 작동합니다. 다차원 배열의 경우, 콤마로 구분된 인덱스 튜플을 사용하여 인덱싱합니다. 예를 들어 2차원 배열에서는 두 개의 인덱스가 필요합니다. 첫 번째 인덱스는 행을, 두 번째 인덱스는 열을 가리킵니다."
   ]
  },
  {
   "cell_type": "code",
   "execution_count": 17,
   "metadata": {},
   "outputs": [
    {
     "name": "stdout",
     "output_type": "stream",
     "text": [
      "Original array: \n",
      " [[1 2 3]\n",
      " [4 5 6]\n",
      " [7 8 9]]\n",
      "Element at position (1,1):  5\n",
      "Array after modification: \n",
      " [[10  2  3]\n",
      " [ 4  5  6]\n",
      " [ 7  8  9]]\n"
     ]
    }
   ],
   "source": [
    "arr = np.array([[1, 2, 3], [4, 5, 6], [7, 8, 9]])\n",
    "print(\"Original array: \\n\", arr)\n",
    "print(\"Element at position (1,1): \", arr[1, 1])  # (1,1) 위치의 원소\n",
    "\n",
    "arr[0, 0] = 10  # (0,0) 위치의 원소 값을 변경\n",
    "print(\"Array after modification: \\n\", arr)"
   ]
  },
  {
   "cell_type": "markdown",
   "metadata": {},
   "source": [
    "### 불리언 인덱싱 (Boolean indexing)\n",
    "\n",
    "\n",
    "불리언 인덱싱은 배열의 각 원소에 대한 불리언(True/False)값을 이용해 인덱싱하는 방법입니다. 이 방법은 특정 조건을 만족하는 원소만 선택하고 싶을 때 유용하게 사용할 수 있습니다."
   ]
  },
  {
   "cell_type": "code",
   "execution_count": 19,
   "metadata": {},
   "outputs": [
    {
     "name": "stdout",
     "output_type": "stream",
     "text": [
      "Original array:  [1 2 3 4 5]\n",
      "Elements greater than 2:  [3 4 5]\n"
     ]
    }
   ],
   "source": [
    "arr = np.array([1, 2, 3, 4, 5])\n",
    "print(\"Original array: \", arr)\n",
    "print(\"Elements greater than 2: \", arr[arr > 2])  # 2보다 큰 원소들\n"
   ]
  },
  {
   "cell_type": "markdown",
   "metadata": {},
   "source": [
    "### 슬라이싱\n",
    "\n",
    "슬라이싱은 배열의 일부분을 선택하는 방법을 의미합니다. 넘파이 배열에서 슬라이싱을 수행하면 원본 데이터를 변경하게 될 수 있으므로 주의 해야합니다."
   ]
  },
  {
   "cell_type": "code",
   "execution_count": 20,
   "metadata": {},
   "outputs": [
    {
     "name": "stdout",
     "output_type": "stream",
     "text": [
      "Original array:  [1 2 3 4 5]\n",
      "Slice of the array:  [2 3 4]\n",
      "Slice after modification:  [10  3  4]\n",
      "Original array after modification:  [ 1 10  3  4  5]\n"
     ]
    }
   ],
   "source": [
    "arr = np.array([1, 2, 3, 4, 5])\n",
    "print(\"Original array: \", arr)\n",
    "\n",
    "slice_arr = arr[1:4]  # 인덱스 1에서 3까지의 슬라이스\n",
    "print(\"Slice of the array: \", slice_arr)\n",
    "\n",
    "slice_arr[0] = 10  # 슬라이스의 첫 번째 원소 값을 변경\n",
    "print(\"Slice after modification: \", slice_arr)\n",
    "print(\"Original array after modification: \", arr)  # 원래 배열도 변경됨"
   ]
  },
  {
   "cell_type": "markdown",
   "metadata": {},
   "source": [
    "### 기본적인 수학 연산\n",
    "\n",
    "Numpy는 배열에 대한 기본적인 수학 연산을 지원합니다. 이 연산은 배열의 각 요소에 개별적으로 적용되며, 새 배열을 생성하여 결과를 반환합니다.\n",
    "\n",
    "#### (1) Addition (덧셈)\n"
   ]
  },
  {
   "cell_type": "code",
   "execution_count": null,
   "metadata": {},
   "outputs": [
    {
     "name": "stdout",
     "output_type": "stream",
     "text": [
      "[5 7 9]\n",
      "[5 7 9]\n"
     ]
    }
   ],
   "source": [
    "a = np.array([1, 2, 3])\n",
    "b = np.array([4, 5, 6])\n",
    "\n",
    "# Using '+'\n",
    "print(a + b)\n",
    "\n",
    "# Using np.add()\n",
    "print(np.add(a, b))"
   ]
  },
  {
   "cell_type": "markdown",
   "metadata": {},
   "source": [
    "#### (2) Subtraction (뺄셈)"
   ]
  },
  {
   "cell_type": "code",
   "execution_count": null,
   "metadata": {},
   "outputs": [
    {
     "name": "stdout",
     "output_type": "stream",
     "text": [
      "[-3 -3 -3]\n",
      "[-3 -3 -3]\n"
     ]
    }
   ],
   "source": [
    "# Using '-'\n",
    "print(a - b)\n",
    "\n",
    "# Using np.subtract()\n",
    "print(np.subtract(a, b))"
   ]
  },
  {
   "cell_type": "markdown",
   "metadata": {},
   "source": [
    "#### (3) Multiplication (곱셈)"
   ]
  },
  {
   "cell_type": "code",
   "execution_count": null,
   "metadata": {},
   "outputs": [
    {
     "name": "stdout",
     "output_type": "stream",
     "text": [
      "a * b =  [ 4 10 18]\n",
      "a * b =  [ 4 10 18]\n"
     ]
    }
   ],
   "source": [
    "# Using '*'\n",
    "print(\"a * b = \", a * b)\n",
    "\n",
    "# Using np.multiply()\n",
    "print(\"a * b = \", np.multiply(a, b))"
   ]
  },
  {
   "cell_type": "markdown",
   "metadata": {},
   "source": [
    "#### (4) Division (나눗셈)"
   ]
  },
  {
   "cell_type": "code",
   "execution_count": 24,
   "metadata": {},
   "outputs": [
    {
     "name": "stdout",
     "output_type": "stream",
     "text": [
      "a / b =  [0.25 0.4  0.5 ]\n",
      "a / b =  [0.25 0.4  0.5 ]\n"
     ]
    }
   ],
   "source": [
    "# Using '/'\n",
    "print(\"a / b = \", a / b)\n",
    "\n",
    "# Using np.divide()\n",
    "print(\"a / b = \", np.divide(a, b))"
   ]
  },
  {
   "cell_type": "markdown",
   "metadata": {},
   "source": [
    "#### (5) Modulo Operation (나머지 연산)"
   ]
  },
  {
   "cell_type": "code",
   "execution_count": 25,
   "metadata": {},
   "outputs": [
    {
     "name": "stdout",
     "output_type": "stream",
     "text": [
      "a % b =  [1 2 3]\n",
      "a % b =  [1 2 3]\n"
     ]
    }
   ],
   "source": [
    "# Using '%'\n",
    "print(\"a % b = \", a % b)\n",
    "\n",
    "# Using np.mod()\n",
    "print(\"a % b = \", np.mod(a, b))"
   ]
  },
  {
   "cell_type": "markdown",
   "metadata": {},
   "source": [
    "#### (6) Exponentiation (지수)"
   ]
  },
  {
   "cell_type": "code",
   "execution_count": 26,
   "metadata": {},
   "outputs": [
    {
     "name": "stdout",
     "output_type": "stream",
     "text": [
      "[ 2.71828183  7.3890561  20.08553692]\n"
     ]
    }
   ],
   "source": [
    "print(np.exp(a))"
   ]
  },
  {
   "cell_type": "markdown",
   "metadata": {},
   "source": [
    "#### (7) Square root (제곱근)"
   ]
  },
  {
   "cell_type": "code",
   "execution_count": 27,
   "metadata": {},
   "outputs": [
    {
     "name": "stdout",
     "output_type": "stream",
     "text": [
      "[1.         1.41421356 1.73205081]\n"
     ]
    }
   ],
   "source": [
    "print(np.sqrt(a))"
   ]
  },
  {
   "cell_type": "markdown",
   "metadata": {},
   "source": [
    "# Broadcasting (브로드캐스팅)\n",
    "\n",
    "Numpy의 브로드캐스팅 기능은 서로 다른 크기의 배열에 대해 산술 연산을 수행하는 방법입니다. 이 기능을 통해 배열의 모양을 자동으로 조정하여 요소별 연산을 수행할 수 있습니다. 브로드캐스팅은 코드를 간결하게 만들고 컴퓨터의 처리 속도를 향상시킵니다.\n",
    "\n",
    "#### 브로드캐스팅 규칙\n",
    "\n",
    "* 두 배열의 차원 수가 다른 경우, 더 작은 수의 차원을 가진 배열의 형태(shape) 앞쪽을 1로 채웁니다. 예를 들어, 1차원 배열 [1, 2, 3]과 2차원 배열 [[1, 2, 3], [4, 5, 6]]이 있을 때, 1차원 배열이 실제로는 [[1, 2, 3]]처럼 2차원으로 변환된다는 의미입니다. 그래서 두 배열은 [[1, 2, 3], [4, 5, 6]] + [[1, 2, 3]] 형태로 계산되게 됩니다.\n",
    "\n",
    "\n",
    "* 두 배열이 어떤 차원에서 크기가 일치하지 않는 경우, 해당 차원의 크기가 1인 배열이 다른 배열의 크기와 일치하도록 변형됩니다.\n",
    "1차원 배열 [1, 2, 3]과 2차원 배열 [[1], [2]]가 있을 때, 1차원 배열이 실제로는 [[1, 2, 3], [1, 2, 3]]처럼 2차원으로 변환되고, 2차원 배열은 [[1, 1, 1], [2, 2, 2]]로 변형됩니다. 그래서 두 배열은 [[1, 1, 1], [2, 2, 2]] + [[1, 2, 3], [1, 2, 3]] 형태로 계산되게 됩니다.\n",
    "\n",
    "\n",
    "* 두 배열이 브로드캐스팅으로 일치시킬 수 없는 경우, 즉 위의 규칙을 만족시키지 못하는 경우 에러가 발생합니다."
   ]
  },
  {
   "cell_type": "code",
   "execution_count": 28,
   "metadata": {},
   "outputs": [
    {
     "name": "stdout",
     "output_type": "stream",
     "text": [
      "[2 4 6]\n"
     ]
    }
   ],
   "source": [
    "a = np.array([1, 2, 3])\n",
    "b = 2\n",
    "\n",
    "print(a * b)"
   ]
  },
  {
   "cell_type": "markdown",
   "metadata": {},
   "source": [
    "#### 행이 많을 때의 브로드캐스팅"
   ]
  },
  {
   "cell_type": "code",
   "execution_count": 29,
   "metadata": {},
   "outputs": [
    {
     "name": "stdout",
     "output_type": "stream",
     "text": [
      "[[1 2 3]\n",
      " [4 5 6]\n",
      " [7 8 9]]\n",
      "[1 2 3]\n",
      "[[ 2  4  6]\n",
      " [ 5  7  9]\n",
      " [ 8 10 12]]\n"
     ]
    }
   ],
   "source": [
    "a = np.array([[1, 2, 3], [4, 5, 6], [7, 8, 9]])  # shape: (3, 3)\n",
    "print(a)\n",
    "b = np.array([1, 2, 3])  # shape: (3,)\n",
    "print(b)\n",
    "result = a + b\n",
    "print(result)"
   ]
  },
  {
   "cell_type": "markdown",
   "metadata": {},
   "source": [
    "#### 열이 많을 때의 브로드캐스팅"
   ]
  },
  {
   "cell_type": "code",
   "execution_count": 30,
   "metadata": {},
   "outputs": [
    {
     "name": "stdout",
     "output_type": "stream",
     "text": [
      "[[1]\n",
      " [2]\n",
      " [3]]\n",
      "[1 2 3]\n",
      "[[2 3 4]\n",
      " [3 4 5]\n",
      " [4 5 6]]\n"
     ]
    }
   ],
   "source": [
    "c = np.array([[1], [2], [3]])  # shape: (3, 1)\n",
    "print(c)\n",
    "d = np.array([1, 2, 3])  # shape: (3,)\n",
    "print(d)\n",
    "result = c + d\n",
    "print(result)"
   ]
  },
  {
   "cell_type": "markdown",
   "metadata": {},
   "source": [
    "# 행렬 연산\n",
    "### (1) 행렬의 곱셈\n",
    "\n",
    "- Numpy는 요소별 곱셈(element-wise multiplication)과 행렬 곱셈(matrix multiplication)을 모두 지원합니다. \n",
    "- * 연산자는 요소별 곱셈을 수행하며, np.dot() 함수나 @ 연산자는 행렬 곱셈을 수행합니다. \n",
    "- 행렬 곱셈을 수행하려면 첫 번째 행렬의 열의 수와 두 번째 행렬의 행의 수가 같아야 합니다.\n"
   ]
  },
  {
   "cell_type": "code",
   "execution_count": null,
   "metadata": {},
   "outputs": [
    {
     "name": "stdout",
     "output_type": "stream",
     "text": [
      "[[1 2]\n",
      " [3 4]\n",
      " [5 6]]\n",
      "[[6 5]\n",
      " [4 3]\n",
      " [2 1]]\n",
      "[[ 6 10]\n",
      " [12 12]\n",
      " [10  6]]\n",
      "[[19 22]\n",
      " [43 50]]\n",
      "[[19 22]\n",
      " [43 50]]\n"
     ]
    }
   ],
   "source": [
    "A = np.array([[1, 2], [3, 4], [5, 6]])\n",
    "B = np.array([[6, 5], [4, 3], [2, 1]])\n",
    "\n",
    "print(A)\n",
    "print(B)\n",
    "\n",
    "print(A * B)  # 요소별 곱셈\n",
    "\n",
    "C = np.array([[1, 2], [3, 4]])\n",
    "D = np.array([[5, 6], [7, 8]])\n",
    "\n",
    "print(np.dot(C, D))  # 행렬 곱셈\n",
    "\n",
    "print(C @ D)  # 행렬 곱셈"
   ]
  },
  {
   "cell_type": "markdown",
   "metadata": {},
   "source": [
    "### (2) 행렬의 전치\n",
    "\n",
    "\n",
    "행렬의 전치는 행과 열을 바꾸는 연산입니다.\n"
   ]
  },
  {
   "cell_type": "code",
   "execution_count": null,
   "metadata": {},
   "outputs": [
    {
     "name": "stdout",
     "output_type": "stream",
     "text": [
      "[[1 2]\n",
      " [3 4]\n",
      " [5 6]]\n",
      "[[1 3 5]\n",
      " [2 4 6]]\n",
      "[[1 3 5]\n",
      " [2 4 6]]\n",
      "[[1 2]\n",
      " [3 4]\n",
      " [5 6]]\n"
     ]
    }
   ],
   "source": [
    "print(A)\n",
    "\n",
    "print(np.transpose(A))  #출력 [[1 3 5] [2 4 6]]\n",
    "print(A.T) # 같은 표현식\n",
    "\n",
    "print(A)"
   ]
  },
  {
   "cell_type": "markdown",
   "metadata": {},
   "source": [
    "### (3) 행렬의 외적\n",
    "\n",
    "외적은 벡터 곱셈의 한 형태로, 두 벡터의 외적 결과는 두 벡터가 형성하는 평면에 수직인 벡터입니다."
   ]
  },
  {
   "cell_type": "code",
   "execution_count": null,
   "metadata": {},
   "outputs": [
    {
     "name": "stdout",
     "output_type": "stream",
     "text": [
      "[1 2 3] [4 5 6]\n",
      "Cross product:  [-3  6 -3]\n"
     ]
    }
   ],
   "source": [
    "v1 = np.array([1, 2, 3])\n",
    "v2 = np.array([4, 5, 6])\n",
    "print(v1, v2)\n",
    "cross_product = np.cross(v1, v2)\n",
    "print(\"Cross product: \", cross_product)"
   ]
  },
  {
   "cell_type": "markdown",
   "metadata": {},
   "source": [
    "# Numpy 집계 함수\n",
    "\n",
    "\n",
    "Numpy는 데이터 분석을 위해 다양한 집계 함수(Aggregate functions)를 제공합니다. 이러한 함수를 사용하면 배열의 요소에 대해 특정 계산을 수행할 수 있습니다. 대표적인 집계 함수들은 다음과 같습니다.\n",
    "\n",
    "\n",
    "\n",
    "* np.sum(): 배열의 모든 요소의 합을 계산합니다.\n",
    "* np.min(), np.max(): 배열의 최소값 또는 최대값을 찾습니다.\n",
    "* np.mean(): 배열의 평균 값을 계산합니다.\n",
    "* np.median(): 배열의 중간값(median)을 찾습니다.\n",
    "* np.std(): 배열의 표준 편차를 계산합니다.\n",
    "* np.var(): 배열의 분산을 계산합니다.\n"
   ]
  },
  {
   "cell_type": "markdown",
   "metadata": {},
   "source": [
    "### (1) np.sum()\n"
   ]
  },
  {
   "cell_type": "code",
   "execution_count": 36,
   "metadata": {},
   "outputs": [
    {
     "name": "stdout",
     "output_type": "stream",
     "text": [
      "Total sum:  21\n",
      "Column sum:  [5 7 9]\n",
      "Row sum:  [ 6 15]\n"
     ]
    }
   ],
   "source": [
    "data = np.array([[1, 2, 3], [4, 5, 6]])\n",
    "\n",
    "# 모든 요소의 합계를 계산\n",
    "total = np.sum(data, axis=None)\n",
    "print(\"Total sum: \", total)\n",
    "\n",
    "# 각 열의 합계를 계산\n",
    "total_column = np.sum(data, axis=0)\n",
    "print(\"Column sum: \", total_column)\n",
    "\n",
    "# 각 행의 합계를 계산\n",
    "total_row = np.sum(data, axis=1)\n",
    "print(\"Row sum: \", total_row)"
   ]
  },
  {
   "cell_type": "markdown",
   "metadata": {},
   "source": [
    "### (2) np.min(), np.max()"
   ]
  },
  {
   "cell_type": "code",
   "execution_count": 37,
   "metadata": {},
   "outputs": [
    {
     "name": "stdout",
     "output_type": "stream",
     "text": [
      "Min:  1\n",
      "Max:  8\n"
     ]
    }
   ],
   "source": [
    "data = np.array([8, 2, 6, 1, 5])\n",
    "minimum = np.min(data)\n",
    "maximum = np.max(data)\n",
    "print(\"Min: \", minimum)\n",
    "print(\"Max: \", maximum)"
   ]
  },
  {
   "cell_type": "markdown",
   "metadata": {},
   "source": [
    "### (3) np.mean()"
   ]
  },
  {
   "cell_type": "code",
   "execution_count": 38,
   "metadata": {},
   "outputs": [
    {
     "name": "stdout",
     "output_type": "stream",
     "text": [
      "Mean:  4.4\n"
     ]
    }
   ],
   "source": [
    "data = np.array([8, 2, 6, 1, 5])\n",
    "average = np.mean(data)\n",
    "print(\"Mean: \", average)"
   ]
  },
  {
   "cell_type": "markdown",
   "metadata": {},
   "source": [
    "### (4) np.median()"
   ]
  },
  {
   "cell_type": "code",
   "execution_count": 39,
   "metadata": {},
   "outputs": [
    {
     "name": "stdout",
     "output_type": "stream",
     "text": [
      "Median:  5.0\n"
     ]
    }
   ],
   "source": [
    "data = np.array([8, 2, 6, 1, 5])\n",
    "middle = np.median(data)\n",
    "print(\"Median: \", middle)"
   ]
  },
  {
   "cell_type": "markdown",
   "metadata": {},
   "source": [
    "### (5) np.std()"
   ]
  },
  {
   "cell_type": "code",
   "execution_count": 40,
   "metadata": {},
   "outputs": [
    {
     "name": "stdout",
     "output_type": "stream",
     "text": [
      "Standard Deviation:  1.4142135623730951\n"
     ]
    }
   ],
   "source": [
    "# 표준 편차 : 데이터가 평균으로부터 얼마나 퍼져 있는지를 나타내는 값\n",
    "data = np.array([1, 2, 3, 4, 5])\n",
    "std_dev = np.std(data)\n",
    "print(\"Standard Deviation: \", std_dev)"
   ]
  },
  {
   "cell_type": "markdown",
   "metadata": {},
   "source": [
    "### (6) np.var()"
   ]
  },
  {
   "cell_type": "code",
   "execution_count": null,
   "metadata": {},
   "outputs": [
    {
     "name": "stdout",
     "output_type": "stream",
     "text": [
      "Variance:  2.0\n"
     ]
    }
   ],
   "source": [
    "# 분산 \n",
    "data = np.array([1, 2, 3, 4, 5])\n",
    "variance = np.var(data)\n",
    "print(\"Variance: \", variance)"
   ]
  },
  {
   "cell_type": "markdown",
   "metadata": {},
   "source": [
    "<br />\n",
    "<br />\n",
    "<br />\n",
    "\n",
    "---\n",
    "\n",
    "# Numpy 정렬과 분할 함수\n",
    "\n",
    "### (1) np.sort()\n",
    "\n",
    "\n",
    "이 함수는 입력 배열을 오름차순으로 정렬한 새 배열을 반환합니다."
   ]
  },
  {
   "cell_type": "code",
   "execution_count": 42,
   "metadata": {},
   "outputs": [
    {
     "name": "stdout",
     "output_type": "stream",
     "text": [
      "Original:  [5 1 6 2 3]\n",
      "Sorted:  [1 2 3 5 6]\n",
      "Reversed Sorted:  [6 5 3 2 1]\n"
     ]
    }
   ],
   "source": [
    "data = np.array([5, 1, 6, 2, 3])\n",
    "sorted_data = np.sort(data)\n",
    "\n",
    "print(\"Original: \", data)\n",
    "print(\"Sorted: \", sorted_data)\n",
    "\n",
    "# 내림차순\n",
    "sorted_data_desc = np.sort(data)[::-1]\n",
    "print(\"Reversed Sorted: \", sorted_data_desc)"
   ]
  },
  {
   "cell_type": "markdown",
   "metadata": {},
   "source": [
    "### (2) np.partition()\n",
    "\n",
    "이 함수는 'k-번째' 위치에 있는 요소를 기준으로 작은 요소들을 왼쪽에, 큰 요소들을 오른쪽에 위치시킵니다. 이는 'k-번째' 최소값을 찾는 데 효율적입니다.\n"
   ]
  },
  {
   "cell_type": "code",
   "execution_count": null,
   "metadata": {},
   "outputs": [
    {
     "name": "stdout",
     "output_type": "stream",
     "text": [
      "Original:  [5 1 6 2 3]\n",
      "Partitioned:  [2 3 1 5 6]\n"
     ]
    }
   ],
   "source": [
    "data = np.array([5, 1, 6, 2, 3])\n",
    "partitioned_data = np.partition(data, 3) # 기존 행에서 3번째 원소보다 작은 값을 왼쪽에, 큰 값을 오른쪽에\n",
    "\n",
    "print(\"Original: \", data)\n",
    "print(\"Partitioned: \", partitioned_data)"
   ]
  },
  {
   "cell_type": "markdown",
   "metadata": {},
   "source": [
    "### (3) np.argsort()\n",
    "\n",
    "이 함수는 배열을 정렬했을 때의 인덱스를 반환합니다. 즉, 원래 배열에서 정렬된 배열로 요소를 재정렬하려면 어떤 순서로 인덱스를 사용해야 하는지를 알려줍니다.\n"
   ]
  },
  {
   "cell_type": "code",
   "execution_count": null,
   "metadata": {},
   "outputs": [
    {
     "name": "stdout",
     "output_type": "stream",
     "text": [
      "Data:  [5 1 6 2 3]\n",
      "Sort Indices:  [1 3 4 0 2]\n"
     ]
    }
   ],
   "source": [
    "data = np.array([5, 1, 6, 2, 3])\n",
    "sort_indices = np.argsort(data)\n",
    "\n",
    "print(\"Data: \", data)\n",
    "print(\"Sort Indices: \", sort_indices) # 기존 인덱스 기준으로, 정렬된 배열의 인덱스를 반환"
   ]
  },
  {
   "cell_type": "markdown",
   "metadata": {},
   "source": [
    "### (4) np.split()\n",
    "\n",
    "\n",
    "이 함수는 배열을 동일한 크기의 여러 하위 배열로 분할합니다."
   ]
  },
  {
   "cell_type": "code",
   "execution_count": 45,
   "metadata": {},
   "outputs": [
    {
     "name": "stdout",
     "output_type": "stream",
     "text": [
      "Original:  [1 2 3 4 5 6]\n",
      "Split:  [array([1, 2]), array([3, 4]), array([5, 6])]\n"
     ]
    }
   ],
   "source": [
    "data = np.array([1, 2, 3, 4, 5, 6])\n",
    "split_data = np.split(data, 3)\n",
    "\n",
    "print(\"Original: \", data)\n",
    "print(\"Split: \", split_data)"
   ]
  },
  {
   "cell_type": "markdown",
   "metadata": {},
   "source": [
    "<br />\n",
    "<br />\n",
    "<br />\n",
    "\n",
    "---\n",
    "\n",
    "# Numpy 수학 함수\n",
    "### (1) np.sin(), np.cos(), np.tan()\n"
   ]
  },
  {
   "cell_type": "code",
   "execution_count": 46,
   "metadata": {},
   "outputs": [
    {
     "name": "stdout",
     "output_type": "stream",
     "text": [
      "sin:  [0.0000000e+00 1.0000000e+00 1.2246468e-16]\n",
      "cos:  [ 1.000000e+00  6.123234e-17 -1.000000e+00]\n",
      "tan:  [ 0.00000000e+00  1.63312394e+16 -1.22464680e-16]\n"
     ]
    }
   ],
   "source": [
    "angles = np.array([0, np.pi / 2, np.pi])\n",
    "print(\"sin: \", np.sin(angles))\n",
    "print(\"cos: \", np.cos(angles))\n",
    "print(\"tan: \", np.tan(angles))"
   ]
  },
  {
   "cell_type": "markdown",
   "metadata": {},
   "source": [
    "### (2) np.log(), np.log2(), np.log10()\n"
   ]
  },
  {
   "cell_type": "code",
   "execution_count": 47,
   "metadata": {},
   "outputs": [
    {
     "name": "stdout",
     "output_type": "stream",
     "text": [
      "log:  [0. 1. 2.]\n",
      "log2:  [0.         1.44269504 2.88539008]\n",
      "log10:  [0.         0.43429448 0.86858896]\n"
     ]
    }
   ],
   "source": [
    "values = np.array([1, np.e, np.e**2])\n",
    "print(\"log: \", np.log(values))\n",
    "print(\"log2: \", np.log2(values))\n",
    "print(\"log10: \", np.log10(values))"
   ]
  },
  {
   "cell_type": "markdown",
   "metadata": {},
   "source": [
    "### (3) np.sqrt()"
   ]
  },
  {
   "cell_type": "code",
   "execution_count": 48,
   "metadata": {},
   "outputs": [
    {
     "name": "stdout",
     "output_type": "stream",
     "text": [
      "sqrt:  [1. 2. 3.]\n"
     ]
    }
   ],
   "source": [
    "values = np.array([1, 4, 9])\n",
    "print(\"sqrt: \", np.sqrt(values))"
   ]
  },
  {
   "cell_type": "markdown",
   "metadata": {},
   "source": [
    "<br />\n",
    "<br />\n",
    "<br />\n",
    "\n",
    "---\n",
    "\n",
    "\n",
    "# Numpy 유용한 함수\n",
    "### (1)  np.any(), np.all()\n",
    "\n",
    "\n",
    "np.any() 함수는 배열 내에서 어느 한 요소라도 참(True)이면 True를 반환하고, np.all() 함수는 배열의 모든 요소가 참(True)일 때 True를 반환합니다."
   ]
  },
  {
   "cell_type": "code",
   "execution_count": 75,
   "metadata": {},
   "outputs": [
    {
     "name": "stdout",
     "output_type": "stream",
     "text": [
      "Any:  True\n",
      "All:  False\n"
     ]
    }
   ],
   "source": [
    "arr = np.array([True, False, True])\n",
    "\n",
    "print(\"Any: \", np.any(arr))\n",
    "print(\"All: \", np.all(arr))"
   ]
  },
  {
   "cell_type": "markdown",
   "metadata": {},
   "source": [
    "### (2) np.where()\n",
    "\n",
    "\n",
    "np.where() 함수는 특정 조건을 만족하는 요소의 인덱스를 반환합니다."
   ]
  },
  {
   "cell_type": "code",
   "execution_count": 50,
   "metadata": {},
   "outputs": [
    {
     "name": "stdout",
     "output_type": "stream",
     "text": [
      "Index:  (array([3, 4], dtype=int64),)\n",
      "Values:  [4 5]\n"
     ]
    }
   ],
   "source": [
    "arr = np.array([1, 2, 3, 4, 5])\n",
    "index = np.where(arr > 3)\n",
    "\n",
    "print(\"Index: \", index)\n",
    "print(\"Values: \", arr[index])"
   ]
  },
  {
   "cell_type": "markdown",
   "metadata": {},
   "source": [
    "<br />\n",
    "<br />\n",
    "<br />\n",
    "<br />\n",
    "<br />\n",
    "\n",
    "---\n",
    "# 난수 생성\n",
    "\n",
    "\n",
    "난수 생성은 컴퓨터 프로그래밍에서 자주 사용되는 기능 중 하나입니다. 통계적 분석, 머신러닝, 시뮬레이션, 암호화 등 다양한 분야에서 사용됩니다.\n",
    "\n",
    "\n",
    "\n",
    "* np.random.rand() : 0과 1 사이에서 균일 분포를 따르는 난수를 생성합니다. 함수에 전달된 인수의 개수에 따라 다차원 배열을 생성하는 데 사용할 수 있습니다. 예를 들어, np.random.rand(5,3)을 호출하면 5x3 크기의 배열이 생성되며, 각 요소는 0과 1 사이의 랜덤한 숫자입니다.\n",
    "* np.random.randn() : 표준 정규 분포(평균이 0이고 표준편차가 1인 분포)를 따르는 난수를 생성합니다.\n",
    "* np.random.randint() : 특정 범위 내에서 랜덤한 정수를 생성합니다. 두 개의 인수를 받으며, 첫 번째 인수는 범위의 시작(포함)이고 두 번째 인수는 범위의 끝(비포함)입니다.\n",
    "* np.random.random() : 0과 1 사이에서 균일 분포를 따르는 난수를 생성합니다. 인수로 튜플을 받아 다차원 배열을 생성할 수 있습니다.\n"
   ]
  },
  {
   "cell_type": "code",
   "execution_count": 51,
   "metadata": {},
   "outputs": [
    {
     "name": "stdout",
     "output_type": "stream",
     "text": [
      "Random number between 0 and 1:  0.8294991310235116\n",
      "Random number from standard normal distribution:  0.7856821203875994\n",
      "Random integer between 1 and 10:  4\n",
      "Random number between 0 and 1:  0.9394274722227922\n"
     ]
    }
   ],
   "source": [
    "# rand: 0과 1 사이의 균일 분포에서 난수 생성\n",
    "print(\"Random number between 0 and 1: \", np.random.rand())\n",
    "\n",
    "# randn: 표준 정규 분포에서 난수 생성\n",
    "print(\"Random number from standard normal distribution: \", np.random.randn())\n",
    "\n",
    "# randint: 주어진 범위에서 임의의 정수 생성\n",
    "print(\"Random integer between 1 and 10: \", np.random.randint(1, 10))\n",
    "\n",
    "# random: 0과 1 사이의 균일 분포에서 난수 생성 (rand와 비슷하지만 다른 형태의 인자를 받음)\n",
    "print(\"Random number between 0 and 1: \", np.random.random())\n"
   ]
  },
  {
   "cell_type": "markdown",
   "metadata": {},
   "source": [
    "<br />\n",
    "<br />\n",
    "\n",
    "---\n",
    "# 랜덤샘플링\n",
    "\n",
    "\n",
    "랜덤 샘플링은 주어진 데이터 집합에서 임의로 선택하는 과정을 말합니다. 아래 함수들은 모두 무작위로 데이터를 선택하거나 순서를 바꾸는 역할을 하며, 이는 데이터를 무작위로 섞거나 특정 개수의 데이터를 랜덤하게 선택하는 등의 작업에서 매우 유용합니다.\n",
    "\n",
    "\n",
    "\n",
    "* np.random.choice() : 주어진 1차원 배열에서 임의의 요소를 선택합니다. 두 번째 인자로 정수를 전달하면 해당 개수만큼의 요소를 랜덤하게 선택합니다.\n",
    "* np.random.shuffle() : 주어진 배열의 순서를 랜덤하게 바꿉니다. 이 함수는 원래 배열 자체를 변경합니다. 원본 배열을 유지하고 싶은 경우에는 np.random.permutation() 함수를 사용합니다.\n",
    "* np.random.permutation() : 주어진 배열의 랜덤한 순열을 반환합니다. 이 함수는 원래 배열에 영향을 주지 않으므로, 원래 배열을 그대로 유지하면서 랜덤하게 순서를 바꿔야 할 때 사용합니다.\n"
   ]
  },
  {
   "cell_type": "code",
   "execution_count": 58,
   "metadata": {},
   "outputs": [
    {
     "name": "stdout",
     "output_type": "stream",
     "text": [
      "Random choice from array:  5\n",
      "Random choice from array:  [1 2 5]\n",
      "[1 2 3 4 5] 기존 arr\n",
      "Array after shuffle:  [1 2 3 4 5]\n",
      "[1 2 3 4 5] 기존 arr\n",
      "Random permutation of array:  [4 5 1 3 2]\n",
      "[1 2 3 4 5] 영향 여부 체크\n"
     ]
    }
   ],
   "source": [
    "# choice: 주어진 배열에서 임의의 요소 선택\n",
    "arr = np.array([1, 2, 3, 4, 5])\n",
    "print(\"Random choice from array: \", np.random.choice(arr))\n",
    "print(\"Random choice from array: \", np.random.choice(arr, 3)) # 3개의 원소\n",
    "\n",
    "# shuffle: 배열을 무작위로 섞음 (원래 배열을 바꿈)\n",
    "print(arr, \"기존 arr\")\n",
    "np.random.shuffle(arr)\n",
    "print(\"Array after shuffle: \", arr)\n",
    "\n",
    "# permutation: 배열의 무작위 순열을 반환 (원래 배열을 바꾸지 않음)\n",
    "arr = np.array([1, 2, 3, 4, 5])\n",
    "\n",
    "print(arr, \"기존 arr\")\n",
    "print(\"Random permutation of array: \", np.random.permutation(arr))\n",
    "print(arr, \"영향 여부 체크\")"
   ]
  }
 ],
 "metadata": {
  "kernelspec": {
   "display_name": "base",
   "language": "python",
   "name": "python3"
  },
  "language_info": {
   "codemirror_mode": {
    "name": "ipython",
    "version": 3
   },
   "file_extension": ".py",
   "mimetype": "text/x-python",
   "name": "python",
   "nbconvert_exporter": "python",
   "pygments_lexer": "ipython3",
   "version": "3.12.4"
  }
 },
 "nbformat": 4,
 "nbformat_minor": 2
}
