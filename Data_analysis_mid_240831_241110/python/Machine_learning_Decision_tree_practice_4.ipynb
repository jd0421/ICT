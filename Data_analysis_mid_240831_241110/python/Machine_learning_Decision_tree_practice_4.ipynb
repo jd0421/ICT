{
 "cells": [
  {
   "cell_type": "code",
   "execution_count": 1,
   "metadata": {},
   "outputs": [],
   "source": [
    "# 라이브러리 임포트\n",
    "from sklearn.model_selection import train_test_split\n",
    "from sklearn.metrics import roc_auc_score, confusion_matrix, classification_report, f1_score, accuracy_score\n",
    "from sklearn.tree import DecisionTreeClassifier\n",
    "import pandas as pd"
   ]
  },
  {
   "cell_type": "code",
   "execution_count": 4,
   "metadata": {},
   "outputs": [],
   "source": [
    "# 데이터 임포트\n",
    "\n",
    "# 학습 데이터 불러오기 및 병합\n",
    "train = pd.merge(\n",
    "    pd.read_csv('https://ds-lecture-data.s3.ap-northeast-2.amazonaws.com/vacc_flu/train.csv'),\n",
    "    pd.read_csv('https://ds-lecture-data.s3.ap-northeast-2.amazonaws.com/vacc_flu/train_labels.csv')[target],\n",
    "    left_index=True,\n",
    "    right_index=True\n",
    ")\n",
    "\n",
    "# 테스트 데이터 불러오기 (애초부터 떨어져 새로 수집된걸 추천!)\n",
    "test = pd.read_csv('https://ds-lecture-data.s3.ap-northeast-2.amazonaws.com/vacc_flu/test.csv')\n"
   ]
  },
  {
   "cell_type": "code",
   "execution_count": 5,
   "metadata": {},
   "outputs": [],
   "source": [
    "# 목표 변수 설정\n",
    "target = 'vacc_h1n1_f'  # 목표 변수로 H1N1 백신 접종 여부를 설정합니다.\n",
    "# target = 'vacc_seas_f'  # 다른 목표 변수로 계절 독감 백신 접종 여부도 사용 가능합니다.\n",
    "\n"
   ]
  },
  {
   "cell_type": "markdown",
   "metadata": {},
   "source": [
    "# 데이터전처리\n",
    "- 데이터 컬럼에 대한 철저한 이해! EDA\n",
    "- 바차트, 선차트, 파이차트, 테이블, 히스토그램 기타등등"
   ]
  },
  {
   "cell_type": "code",
   "execution_count": 8,
   "metadata": {},
   "outputs": [],
   "source": [
    "# 타겟과 특성 분리 \n",
    "X  = train.drop(columns=[target])\n",
    "y  = train[target]"
   ]
  },
  {
   "cell_type": "markdown",
   "metadata": {},
   "source": [
    "## 데이터 클랜징\n",
    "- 결측지 처리 ( 제거 / 대체 )\n",
    "- 범주형 데이터 처리 ( 원핫 / 레이블 )\n"
   ]
  },
  {
   "cell_type": "code",
   "execution_count": 9,
   "metadata": {},
   "outputs": [],
   "source": [
    "def preprocess_data(data):\n",
    "    #수치형데이터 처리\n",
    "    numeric = data.select_dtypes(include=['number'])\n",
    "    numeric = numeric.fillna(numeric.mean())\n",
    "    # 범주형데이터 처리\n",
    "    # 예시)특수문자제거\n",
    "    category = data.select_dtypes(include=['object'])\n",
    "    category = category.fillna(category.mode().iloc[0])\n",
    "    # 예시)특수문자제거\n",
    "    category = pd.get_dummies(category) #get_dummies() 원핫인코딩 적용 매소드\n",
    "    return pd.concat([numeric, category], axis=1)"
   ]
  },
  {
   "cell_type": "code",
   "execution_count": 10,
   "metadata": {},
   "outputs": [],
   "source": [
    "X = preprocess_data(X)\n",
    "test = preprocess_data(test )"
   ]
  },
  {
   "cell_type": "code",
   "execution_count": 11,
   "metadata": {},
   "outputs": [],
   "source": [
    "X_train, X_val, y_train, y_val = train_test_split(X, y, test_size=0.2, random_state=42)"
   ]
  },
  {
   "cell_type": "markdown",
   "metadata": {},
   "source": [
    "# 모델 훈련 / 예측"
   ]
  },
  {
   "cell_type": "code",
   "execution_count": 12,
   "metadata": {},
   "outputs": [],
   "source": [
    "# 모델 설정\n",
    "model = DecisionTreeClassifier(random_state=42)\n",
    "# 모델 훈련\n",
    "model.fit(X_train, y_train)\n",
    "# 예측\n",
    "y_pred = model.predict(X_val)"
   ]
  },
  {
   "cell_type": "code",
   "execution_count": 13,
   "metadata": {},
   "outputs": [
    {
     "name": "stdout",
     "output_type": "stream",
     "text": [
      "Accuracy: 0.7548333531016487\n"
     ]
    }
   ],
   "source": [
    "# 정확도\n",
    "accuracy = accuracy_score(y_val, y_pred)\n",
    "print(f\"Accuracy: {accuracy}\")"
   ]
  },
  {
   "cell_type": "code",
   "execution_count": 14,
   "metadata": {},
   "outputs": [
    {
     "name": "stdout",
     "output_type": "stream",
     "text": [
      "[[5310 1075]\n",
      " [ 992 1054]]\n"
     ]
    }
   ],
   "source": [
    "# confusion matrix\n",
    "print(confusion_matrix(y_val, y_pred))"
   ]
  },
  {
   "cell_type": "code",
   "execution_count": 15,
   "metadata": {},
   "outputs": [
    {
     "name": "stdout",
     "output_type": "stream",
     "text": [
      "              precision    recall  f1-score   support\n",
      "\n",
      "           0       0.84      0.83      0.84      6385\n",
      "           1       0.50      0.52      0.50      2046\n",
      "\n",
      "    accuracy                           0.75      8431\n",
      "   macro avg       0.67      0.67      0.67      8431\n",
      "weighted avg       0.76      0.75      0.76      8431\n",
      "\n"
     ]
    }
   ],
   "source": [
    "# 정밀도, 재현율, f1 score : classification_report()\n",
    "print(classification_report(y_val, y_pred))"
   ]
  },
  {
   "cell_type": "markdown",
   "metadata": {},
   "source": [
    "# Test data 훈련\n",
    "- 이성능이 좋아야지, 일반화해서 사용가능!"
   ]
  },
  {
   "cell_type": "code",
   "execution_count": 16,
   "metadata": {},
   "outputs": [],
   "source": [
    "test_pred = model.predict(test)"
   ]
  },
  {
   "cell_type": "code",
   "execution_count": 17,
   "metadata": {},
   "outputs": [],
   "source": [
    "results = pd.DataFrame({\n",
    "    'vacc_h1n1_f': test_pred\n",
    "})"
   ]
  },
  {
   "cell_type": "code",
   "execution_count": 18,
   "metadata": {},
   "outputs": [
    {
     "name": "stdout",
     "output_type": "stream",
     "text": [
      "vacc_h1n1_f\n",
      "0              21182\n",
      "1               6922\n",
      "Name: count, dtype: int64\n"
     ]
    }
   ],
   "source": [
    "print(results.value_counts())"
   ]
  },
  {
   "cell_type": "markdown",
   "metadata": {},
   "source": [
    "# 결론\n",
    "DecisionTreeClassifier 모델에서 75%의 정확도를 보이고 ,   \n",
    "0 (백신미접종) : 정밀도 0.84 , 재현율 0.94 , f1 score : 0.84   \n",
    "1(백신 접종) : 정밀도 0.50     재현율 0.52  f1 score    0.50   \n",
    "\n",
    "모델 측면에서 볼때 백신 미접종자를 예측하는데 더 좋은 성능을 보이고, 백신 접종자를 식별하는데 어려움  \n",
    "\n",
    "# 추후 시도 (회고)\n",
    "- 데이터 보강\n",
    "- 클래스 가중치 조정\n",
    "- 더 복잡한 모델 적용\n",
    "- feature egeernig 적용\n",
    "\n",
    "\n"
   ]
  },
  {
   "cell_type": "code",
   "execution_count": null,
   "metadata": {},
   "outputs": [],
   "source": []
  }
 ],
 "metadata": {
  "kernelspec": {
   "display_name": "base",
   "language": "python",
   "name": "python3"
  },
  "language_info": {
   "codemirror_mode": {
    "name": "ipython",
    "version": 3
   },
   "file_extension": ".py",
   "mimetype": "text/x-python",
   "name": "python",
   "nbconvert_exporter": "python",
   "pygments_lexer": "ipython3",
   "version": "3.12.4"
  }
 },
 "nbformat": 4,
 "nbformat_minor": 2
}
